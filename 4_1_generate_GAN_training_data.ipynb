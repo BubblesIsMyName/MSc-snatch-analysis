{
 "cells": [
  {
   "cell_type": "markdown",
   "metadata": {},
   "source": [
    "# The folowing script Generates training data for a GAN\n",
    " - The script has two methods for generating training data for a GAN from the cleaned and annoated world championships data.\n",
    " - The generated training data is a structure containing arrays shaped 16x16 and corresponding class number."
   ]
  },
  {
   "cell_type": "code",
   "execution_count": 7,
   "metadata": {},
   "outputs": [],
   "source": [
    "# Import neccessary dependancies\n",
    "import numpy as np\n",
    "import pandas as pd\n",
    "from matplotlib import pyplot as plt\n",
    "from sklearn.preprocessing import StandardScaler\n",
    "import plotly.express as px\n",
    "# Allows us to create graph objects for making more customized plots\n",
    "import plotly.graph_objects as go\n",
    "from matplotlib import pyplot as plt\n",
    "\n",
    "from os import getcwd as wd # get the working directory"
   ]
  },
  {
   "cell_type": "code",
   "execution_count": 8,
   "metadata": {},
   "outputs": [
    {
     "name": "stderr",
     "output_type": "stream",
     "text": [
      "/tmp/ipykernel_323621/2848796252.py:2: DtypeWarning:\n",
      "\n",
      "Columns (5) have mixed types. Specify dtype option on import or set low_memory=False.\n",
      "\n"
     ]
    },
    {
     "data": {
      "text/html": [
       "<div>\n",
       "<style scoped>\n",
       "    .dataframe tbody tr th:only-of-type {\n",
       "        vertical-align: middle;\n",
       "    }\n",
       "\n",
       "    .dataframe tbody tr th {\n",
       "        vertical-align: top;\n",
       "    }\n",
       "\n",
       "    .dataframe thead th {\n",
       "        text-align: right;\n",
       "    }\n",
       "</style>\n",
       "<table border=\"1\" class=\"dataframe\">\n",
       "  <thead>\n",
       "    <tr style=\"text-align: right;\">\n",
       "      <th></th>\n",
       "      <th>id</th>\n",
       "      <th>class</th>\n",
       "      <th>time_ms</th>\n",
       "      <th>success</th>\n",
       "      <th>weightclass</th>\n",
       "      <th>name</th>\n",
       "      <th>country</th>\n",
       "      <th>weight</th>\n",
       "      <th>x0</th>\n",
       "      <th>y0</th>\n",
       "      <th>...</th>\n",
       "      <th>z30</th>\n",
       "      <th>v30</th>\n",
       "      <th>x31</th>\n",
       "      <th>y31</th>\n",
       "      <th>z31</th>\n",
       "      <th>v31</th>\n",
       "      <th>x32</th>\n",
       "      <th>y32</th>\n",
       "      <th>z32</th>\n",
       "      <th>v32</th>\n",
       "    </tr>\n",
       "  </thead>\n",
       "  <tbody>\n",
       "    <tr>\n",
       "      <th>15</th>\n",
       "      <td>0</td>\n",
       "      <td>start</td>\n",
       "      <td>391633.333333</td>\n",
       "      <td>1</td>\n",
       "      <td>109+</td>\n",
       "      <td>TOYCHYYEV</td>\n",
       "      <td>TKM</td>\n",
       "      <td>180</td>\n",
       "      <td>0.492270</td>\n",
       "      <td>0.249343</td>\n",
       "      <td>...</td>\n",
       "      <td>-0.103702</td>\n",
       "      <td>0.250496</td>\n",
       "      <td>0.427865</td>\n",
       "      <td>-0.001709</td>\n",
       "      <td>-0.273670</td>\n",
       "      <td>0.232539</td>\n",
       "      <td>0.559647</td>\n",
       "      <td>0.001709</td>\n",
       "      <td>-0.244762</td>\n",
       "      <td>0.213154</td>\n",
       "    </tr>\n",
       "    <tr>\n",
       "      <th>16</th>\n",
       "      <td>0</td>\n",
       "      <td>start</td>\n",
       "      <td>391666.666667</td>\n",
       "      <td>1</td>\n",
       "      <td>109+</td>\n",
       "      <td>TOYCHYYEV</td>\n",
       "      <td>TKM</td>\n",
       "      <td>180</td>\n",
       "      <td>0.492256</td>\n",
       "      <td>0.260386</td>\n",
       "      <td>...</td>\n",
       "      <td>-0.080179</td>\n",
       "      <td>0.323355</td>\n",
       "      <td>0.429044</td>\n",
       "      <td>-0.002347</td>\n",
       "      <td>-0.221434</td>\n",
       "      <td>0.305030</td>\n",
       "      <td>0.559634</td>\n",
       "      <td>0.002347</td>\n",
       "      <td>-0.206907</td>\n",
       "      <td>0.290510</td>\n",
       "    </tr>\n",
       "    <tr>\n",
       "      <th>17</th>\n",
       "      <td>0</td>\n",
       "      <td>start</td>\n",
       "      <td>391700.000000</td>\n",
       "      <td>1</td>\n",
       "      <td>109+</td>\n",
       "      <td>TOYCHYYEV</td>\n",
       "      <td>TKM</td>\n",
       "      <td>180</td>\n",
       "      <td>0.492122</td>\n",
       "      <td>0.273022</td>\n",
       "      <td>...</td>\n",
       "      <td>-0.052037</td>\n",
       "      <td>0.389390</td>\n",
       "      <td>0.428880</td>\n",
       "      <td>-0.001509</td>\n",
       "      <td>-0.168077</td>\n",
       "      <td>0.369838</td>\n",
       "      <td>0.559187</td>\n",
       "      <td>0.001509</td>\n",
       "      <td>-0.164393</td>\n",
       "      <td>0.360186</td>\n",
       "    </tr>\n",
       "    <tr>\n",
       "      <th>18</th>\n",
       "      <td>0</td>\n",
       "      <td>start</td>\n",
       "      <td>391733.333333</td>\n",
       "      <td>1</td>\n",
       "      <td>109+</td>\n",
       "      <td>TOYCHYYEV</td>\n",
       "      <td>TKM</td>\n",
       "      <td>180</td>\n",
       "      <td>0.492107</td>\n",
       "      <td>0.275419</td>\n",
       "      <td>...</td>\n",
       "      <td>-0.041674</td>\n",
       "      <td>0.448591</td>\n",
       "      <td>0.428852</td>\n",
       "      <td>-0.001392</td>\n",
       "      <td>-0.153025</td>\n",
       "      <td>0.428470</td>\n",
       "      <td>0.559413</td>\n",
       "      <td>0.001392</td>\n",
       "      <td>-0.144922</td>\n",
       "      <td>0.422875</td>\n",
       "    </tr>\n",
       "    <tr>\n",
       "      <th>19</th>\n",
       "      <td>0</td>\n",
       "      <td>start</td>\n",
       "      <td>391766.666667</td>\n",
       "      <td>1</td>\n",
       "      <td>109+</td>\n",
       "      <td>TOYCHYYEV</td>\n",
       "      <td>TKM</td>\n",
       "      <td>180</td>\n",
       "      <td>0.492137</td>\n",
       "      <td>0.284583</td>\n",
       "      <td>...</td>\n",
       "      <td>-0.045571</td>\n",
       "      <td>0.501953</td>\n",
       "      <td>0.428794</td>\n",
       "      <td>-0.001289</td>\n",
       "      <td>-0.160241</td>\n",
       "      <td>0.481376</td>\n",
       "      <td>0.559285</td>\n",
       "      <td>0.001289</td>\n",
       "      <td>-0.152675</td>\n",
       "      <td>0.479406</td>\n",
       "    </tr>\n",
       "  </tbody>\n",
       "</table>\n",
       "<p>5 rows × 140 columns</p>\n",
       "</div>"
      ],
      "text/plain": [
       "    id  class        time_ms  success weightclass       name country  weight  \\\n",
       "15   0  start  391633.333333        1        109+  TOYCHYYEV     TKM     180   \n",
       "16   0  start  391666.666667        1        109+  TOYCHYYEV     TKM     180   \n",
       "17   0  start  391700.000000        1        109+  TOYCHYYEV     TKM     180   \n",
       "18   0  start  391733.333333        1        109+  TOYCHYYEV     TKM     180   \n",
       "19   0  start  391766.666667        1        109+  TOYCHYYEV     TKM     180   \n",
       "\n",
       "          x0        y0  ...       z30       v30       x31       y31       z31  \\\n",
       "15  0.492270  0.249343  ... -0.103702  0.250496  0.427865 -0.001709 -0.273670   \n",
       "16  0.492256  0.260386  ... -0.080179  0.323355  0.429044 -0.002347 -0.221434   \n",
       "17  0.492122  0.273022  ... -0.052037  0.389390  0.428880 -0.001509 -0.168077   \n",
       "18  0.492107  0.275419  ... -0.041674  0.448591  0.428852 -0.001392 -0.153025   \n",
       "19  0.492137  0.284583  ... -0.045571  0.501953  0.428794 -0.001289 -0.160241   \n",
       "\n",
       "         v31       x32       y32       z32       v32  \n",
       "15  0.232539  0.559647  0.001709 -0.244762  0.213154  \n",
       "16  0.305030  0.559634  0.002347 -0.206907  0.290510  \n",
       "17  0.369838  0.559187  0.001509 -0.164393  0.360186  \n",
       "18  0.428470  0.559413  0.001392 -0.144922  0.422875  \n",
       "19  0.481376  0.559285  0.001289 -0.152675  0.479406  \n",
       "\n",
       "[5 rows x 140 columns]"
      ]
     },
     "execution_count": 8,
     "metadata": {},
     "output_type": "execute_result"
    }
   ],
   "source": [
    "csv_path = f\"{wd()}/data/world_championships_data.csv\"\n",
    "df = pd.read_csv(csv_path, index_col = 0)\n",
    "df.head()\n"
   ]
  },
  {
   "cell_type": "code",
   "execution_count": 4,
   "metadata": {},
   "outputs": [],
   "source": [
    "# column names used in the \n",
    "column_order = [16,14,12,24,26,28,8,2,5,7,27,25,23,11,13,15] \n",
    "column_order_str = [f'{dimension}{item}' for item in column_order for dimension in [\"y\"]]"
   ]
  },
  {
   "cell_type": "markdown",
   "metadata": {},
   "source": [
    "# Method No 1 - Generate data for 3 clases based on finding the peak point in the lift."
   ]
  },
  {
   "cell_type": "code",
   "execution_count": 12,
   "metadata": {},
   "outputs": [
    {
     "name": "stdout",
     "output_type": "stream",
     "text": [
      "768 - Total number of training images generated.\n",
      "0\n"
     ]
    },
    {
     "name": "stderr",
     "output_type": "stream",
     "text": [
      "/tmp/ipykernel_323621/3064060002.py:94: VisibleDeprecationWarning:\n",
      "\n",
      "Creating an ndarray from ragged nested sequences (which is a list-or-tuple of lists-or-tuples-or ndarrays with different lengths or shapes) is deprecated. If you meant to do this, you must specify 'dtype=object' when creating the ndarray.\n",
      "\n"
     ]
    },
    {
     "data": {
      "image/png": "[encoded data removed]",
      "text/plain": [
       "<Figure size 432x288 with 1 Axes>"
      ]
     },
     "metadata": {
      "needs_background": "light"
     },
     "output_type": "display_data"
    },
    {
     "name": "stdout",
     "output_type": "stream",
     "text": [
      "1\n"
     ]
    },
    {
     "data": {
      "image/png": "[encoded data removed]",
      "text/plain": [
       "<Figure size 432x288 with 1 Axes>"
      ]
     },
     "metadata": {
      "needs_background": "light"
     },
     "output_type": "display_data"
    },
    {
     "name": "stdout",
     "output_type": "stream",
     "text": [
      "2\n"
     ]
    },
    {
     "data": {
      "image/png": "[encoded data removed]",
      "text/plain": [
       "<Figure size 432x288 with 1 Axes>"
      ]
     },
     "metadata": {
      "needs_background": "light"
     },
     "output_type": "display_data"
    },
    {
     "name": "stdout",
     "output_type": "stream",
     "text": [
      "0\n"
     ]
    },
    {
     "data": {
      "image/png": "[encoded data removed]",
      "text/plain": [
       "<Figure size 432x288 with 1 Axes>"
      ]
     },
     "metadata": {
      "needs_background": "light"
     },
     "output_type": "display_data"
    },
    {
     "name": "stdout",
     "output_type": "stream",
     "text": [
      "1\n"
     ]
    },
    {
     "data": {
      "image/png": "[encoded data removed]",
      "text/plain": [
       "<Figure size 432x288 with 1 Axes>"
      ]
     },
     "metadata": {
      "needs_background": "light"
     },
     "output_type": "display_data"
    }
   ],
   "source": [
    "from sklearn.preprocessing import MinMaxScaler\n",
    "scaler = MinMaxScaler()\n",
    "\n",
    "def pad_data(im_data,no_of_rows,append_part = \"start\"):\n",
    "    \"\"\"\n",
    "    Function padd the data by duplicating start or end rows in an array and outputs the data in the standard 16x16 output size.\n",
    "    \"\"\"\n",
    "    if append_part == \"start\":\n",
    "        im_data_padding = np.repeat(im_data[:1],no_of_rows,axis=0)\n",
    "        im_data = np.vstack([im_data_padding,im_data])\n",
    "    if append_part == \"end\":\n",
    "        im_data_padding = np.repeat(im_data[-1:],no_of_rows,axis=0)\n",
    "        im_data = np.vstack([im_data,im_data_padding])\n",
    "    return im_data\n",
    "\n",
    "def gradients_scale(npArray, order = 1):\n",
    "    \"\"\"\n",
    "    Fucntion used to find the gradient of the data and the scale the data.\n",
    "    \"\"\"\n",
    "    while order > 0:\n",
    "        npArray = np.gradient(npArray,axis = 0)\n",
    "        order =-1\n",
    "\n",
    "    npArray = npArray.transpose()\n",
    "    npArray = scaler.fit_transform(npArray)\n",
    "    \n",
    "    return npArray\n",
    "\n",
    "def smooth(y):\n",
    "    \"\"\"\n",
    "    Function used for filtering the data with a convolution.\n",
    "    \"\"\"\n",
    "    box_pts = 6\n",
    "    box = np.ones(box_pts)/box_pts\n",
    "    y_smooth = np.convolve(y, box, mode='same') # if you use valid, then returns shortend array by the size of the box\n",
    "    return y_smooth\n",
    "\n",
    "def input_output_image_given_id(df_orig,window = 16):\n",
    "    \n",
    "    input_list = []\n",
    "    output_list = []\n",
    "\n",
    "    for lift_id in df_orig.id.unique():\n",
    "        df = df_orig[df_orig.id==lift_id].reset_index() # dataframe for the lift_id and the feature columns\n",
    "        \n",
    "        # !!!!! filter the signals with a convolution, column (timewise axis) !!!!!\n",
    "        try:\n",
    "            df[column_order_str] = df[column_order_str].apply(smooth,axis=0)\n",
    "        except Exception as e:\n",
    "            print(e)\n",
    "        \n",
    "        peak = df[\"y0\"].max()\n",
    "        index_value = df[df[\"y0\"] == peak].index.to_list()[0] # find peak index value, that is used for alignement\n",
    "        df = df[column_order_str]\n",
    "        \n",
    "        \n",
    "        # !!!!! Generate the matrices !!!!!\n",
    "        # Extend\n",
    "        extend = df.loc[index_value-24:index_value-9].to_numpy(dtype=\"float32\")\n",
    "        extend_len = extend.shape[0]\n",
    "       \n",
    "        # Overturn\n",
    "        overturn = df.loc[index_value-8:index_value+7].to_numpy(dtype=\"float32\")\n",
    "        overturn_len = overturn.shape[0]\n",
    "\n",
    "        # Catch\n",
    "        catch = df.loc[index_value+8:index_value+23].to_numpy(dtype=\"float32\")\n",
    "        catch_len = catch.shape[0]\n",
    "        \n",
    "        \n",
    "        # !!!!! Process the data and ensure the final output is of desired dimensions !!!!!\n",
    "        if (extend_len < window) & (extend_len > 14) : # data needs to be padded\n",
    "            extend = pad_data(extend,abs(window - extend_len),\"start\")\n",
    "            extend_len = extend.shape[0]\n",
    "\n",
    "        if (catch_len < window) & (catch_len > 14) : # data needs to be padded\n",
    "            catch = pad_data(catch,abs(window - catch_len),\"end\")\n",
    "            catch_len = extend.shape[0]\n",
    "        \n",
    "        if extend_len == window: \n",
    "            input_list.append(gradients_scale(extend)) \n",
    "            output_list.append([np.array(0)]) \n",
    "        \n",
    "        if overturn_len == window: \n",
    "            input_list.append(gradients_scale(overturn)) \n",
    "            output_list.append([np.array(1)]) \n",
    "       \n",
    "        if catch_len == window: \n",
    "            input_list.append(gradients_scale(catch)) \n",
    "            output_list.append([np.array(2)]) \n",
    "        \n",
    "    \n",
    "    print(f\"{np.shape(input_list)[0]} - Total number of training images generated.\")\n",
    "    return np.array([input_list,np.array([output_list])])\n",
    "\n",
    "\n",
    "lift_data = []\n",
    "lift_data = input_output_image_given_id(df)\n",
    "\n",
    "\n",
    "for i in range(0,100,1)[:5]:\n",
    "  category = lift_data[1][0][i][0]\n",
    "  print(category)\n",
    "  plt.imshow(lift_data[0][i])\n",
    "  plt.show()"
   ]
  },
  {
   "cell_type": "markdown",
   "metadata": {},
   "source": [
    "### Save the numpy object for use in the GAN"
   ]
  },
  {
   "cell_type": "code",
   "execution_count": 437,
   "metadata": {},
   "outputs": [],
   "source": [
    "name = \"filt_center_method\"\n",
    "path = f'{wd()}/data/{name}.npy'\n",
    "np.save(path,lift_data)"
   ]
  },
  {
   "cell_type": "markdown",
   "metadata": {},
   "source": [
    "# Method No 2 - Generate training data based on all the clases available in each lift"
   ]
  },
  {
   "cell_type": "markdown",
   "metadata": {},
   "source": [
    "size of each labled bit will be 16 x 16"
   ]
  },
  {
   "cell_type": "code",
   "execution_count": 11,
   "metadata": {},
   "outputs": [
    {
     "name": "stdout",
     "output_type": "stream",
     "text": [
      "878 - Total number of training images.\n"
     ]
    },
    {
     "name": "stderr",
     "output_type": "stream",
     "text": [
      "/tmp/ipykernel_323621/2514145359.py:77: VisibleDeprecationWarning:\n",
      "\n",
      "Creating an ndarray from ragged nested sequences (which is a list-or-tuple of lists-or-tuples-or ndarrays with different lengths or shapes) is deprecated. If you meant to do this, you must specify 'dtype=object' when creating the ndarray.\n",
      "\n"
     ]
    }
   ],
   "source": [
    "from sklearn.preprocessing import MinMaxScaler\n",
    "scaler = MinMaxScaler()\n",
    "\n",
    "def smooth(y):\n",
    "    box_pts = 6\n",
    "    box = np.ones(box_pts)/box_pts\n",
    "    y_smooth = np.convolve(y, box, mode='same') # if you use valid, then returns shortend array by the size of the box\n",
    "    return y_smooth\n",
    "\n",
    "def gradients(npArray, order = 2):\n",
    "    while order > 0:\n",
    "        npArray = np.gradient(npArray,axis = 0)\n",
    "        order =-1\n",
    "    return npArray\n",
    "\n",
    "def input_output_image_given_id(df_orig,set_element_size = 16):\n",
    "    \n",
    "    input_list = []\n",
    "    output_list = []\n",
    "    class_elem_dict = {'start':0, 'extension':1, 'overturn':2, 'catch':3, 'end':4}\n",
    "    for lift_id in df_orig.id.unique():\n",
    "        \n",
    "        filterId = df_orig.id==lift_id\n",
    "        df = df_orig[filterId].reset_index()\n",
    "        \n",
    "        # !!!!! filter the signals !!!!!\n",
    "        try:\n",
    "            df[column_order_str] = df[column_order_str].apply(smooth,axis=0)\n",
    "        except Exception as e:\n",
    "            print(e)\n",
    "        \n",
    "        for class_lable in df_orig[\"class\"].unique():\n",
    "            filterClass = df[\"class\"]==class_lable\n",
    "            try:\n",
    "                start,end = df[filterClass].first_valid_index(),df[filterClass].last_valid_index()\n",
    "\n",
    "                lift_element = df[filterClass][column_order_str].to_numpy(dtype = \"float32\")\n",
    "                \n",
    "                lift_element_len =  lift_element.shape[0]\n",
    "\n",
    "                \n",
    "                if lift_element_len != set_element_size:\n",
    "                    # print(class_lable,start,end)\n",
    "                    diff = abs(set_element_size - lift_element_len)\n",
    "                    # print(\"diff\",diff)\n",
    "\n",
    "                    if lift_element_len>set_element_size: # !!! LONG\n",
    "                        # print(\"long\")\n",
    "                        start = start + diff\n",
    "                        lift_element = df.loc[start:end,column_order_str].to_numpy(dtype = \"float32\")\n",
    "                        # print(\"shape\",lift_element.shape[0])\n",
    "                    else:                                 # !!! SHORT\n",
    "                        # print(\"short\")\n",
    "                        if (start-diff)<0:\n",
    "                            end = end + diff\n",
    "                            lift_element = df.loc[start:end,column_order_str].to_numpy(dtype = \"float32\")\n",
    "                            # print(\"shape\",lift_element.shape[0])\n",
    "                        else:\n",
    "                            start = start - diff\n",
    "                            lift_element = df.loc[start:end,column_order_str].to_numpy(dtype = \"float32\")\n",
    "                            # print(\"shape\",lift_element.shape[0])\n",
    "                    \n",
    "                    \n",
    "\n",
    "                lift_element = gradients(lift_element) # get gradient\n",
    "                lift_element = lift_element.transpose() # flip\n",
    "                lift_element = scaler.fit_transform(lift_element) # min_max norm\n",
    "                \n",
    "                \n",
    "                input_list.append(lift_element)\n",
    "                output_list.append([np.array(class_elem_dict[class_lable],dtype=\"uint8\")])\n",
    "            except:\n",
    "                class_lable\n",
    "\n",
    "    print(f\"{np.shape(input_list)[0]} - Total number of training images generated.\")\n",
    "\n",
    "    return np.array([input_list,np.array([output_list])])\n",
    "\n",
    "\n",
    "lift_data = input_output_image_given_id(df)\n",
    "\n",
    "for i in range(0,100,1)[:5]:\n",
    "  category = lift_data[1][0][i][0]\n",
    "  print(category)\n",
    "  plt.imshow(lift_data[0][i])\n",
    "  plt.show()"
   ]
  },
  {
   "cell_type": "markdown",
   "metadata": {},
   "source": [
    "### Save the numpy object for use in the GAN"
   ]
  },
  {
   "cell_type": "code",
   "execution_count": null,
   "metadata": {},
   "outputs": [],
   "source": [
    "name = \"filt_window_method\"\n",
    "path = f'{wd()}/data/{name}.npy'\n",
    "np.save(path,lift_data)"
   ]
  }
 ],
 "metadata": {
  "interpreter": {
   "hash": "d1b7392e418050e7e2804adcd0e28bdb1f9f4ce938d794d8861fc36e80ab87f0"
  },
  "kernelspec": {
   "display_name": "Python 3.9.5 ('project-env': venv)",
   "language": "python",
   "name": "python3"
  },
  "language_info": {
   "codemirror_mode": {
    "name": "ipython",
    "version": 3
   },
   "file_extension": ".py",
   "mimetype": "text/x-python",
   "name": "python",
   "nbconvert_exporter": "python",
   "pygments_lexer": "ipython3",
   "version": "3.9.5"
  },
  "orig_nbformat": 4,
  "vscode": {
   "interpreter": {
    "hash": "3790d0b208484c6620de713a087c26808a915b75b548c7f167245aaa5f6cb6c5"
   }
  }
 },
 "nbformat": 4,
 "nbformat_minor": 2
}
